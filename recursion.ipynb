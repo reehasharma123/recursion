{
 "cells": [
  {
   "cell_type": "markdown",
   "metadata": {},
   "source": [
    "<hr>\n",
    "\n",
    "### Q1. Can you explain the logic and working of the Tower of Hanoi algorithm by writing a Python program?"
   ]
  },
  {
   "cell_type": "code",
   "execution_count": null,
   "metadata": {},
   "outputs": [],
   "source": [
    "def tower_of_hanoi(disk, tower = 3):\n",
    "    disk = input(\"Enter the number of disks\")\n",
    "    if "
   ]
  },
  {
   "cell_type": "markdown",
   "metadata": {},
   "source": [
    "<hr>\n",
    "\n",
    "### Q2. Given two strings word1 and word2, return the minimum number of operations required to convert word1 to word2."
   ]
  },
  {
   "cell_type": "markdown",
   "metadata": {},
   "source": [
    "<hr>\n",
    "\n",
    "### Q3. Print the max value of the array [ 13, 1, -3, 22, 5]."
   ]
  },
  {
   "cell_type": "code",
   "execution_count": 1,
   "metadata": {},
   "outputs": [
    {
     "name": "stdout",
     "output_type": "stream",
     "text": [
      "Maximum value in [13, 1, -3, 22, 5]: \u001b[1m22\u001b[0m\n"
     ]
    }
   ],
   "source": [
    "def max_value(array):\n",
    "    \"\"\"\n",
    "    - If the array is empty, return negative infinity.\n",
    "        Using negative infinity as the initial value for finding the maximum is a common practice \n",
    "        when searching for the maximum in a list or array. \n",
    "        The idea is that any real number in the list will be greater than negative infinity, \n",
    "        so it provides a starting point for the comparison.\n",
    "    - Otherwise, compare the last element of the array with the maximum value of the remaining elements,\n",
    "    calculated recursively .\n",
    "\n",
    "    Parameters:\n",
    "    - array (list): The list of numeric elements to find the maximum value for.\n",
    "\n",
    "    Returns:\n",
    "    int: The maximum value in the array.\n",
    "\n",
    "    Example:\n",
    "    >>> find_max([13, 1, -3, 22, 5])\n",
    "    22\n",
    "    \"\"\"\n",
    "    if len(array) == 0:\n",
    "        return -float('inf')\n",
    "    return max(array[-1], max_value(array[:-1]))\n",
    "\n",
    "def print_max(array):\n",
    "    if max_value(array) == -float('inf'):\n",
    "        print(f\"{array} is empty.\")\n",
    "    else:\n",
    "        print(f\"Maximum value in {array}: \\033[1m{max_value(array)}\\033[0m\")\n",
    "\n",
    "print_max([13, 1, -3, 22, 5])"
   ]
  },
  {
   "cell_type": "markdown",
   "metadata": {},
   "source": [
    "<hr>\n",
    "\n",
    "### Q4. Find the sum of the values of the array [92, 23, 15, -20, 10]."
   ]
  },
  {
   "cell_type": "code",
   "execution_count": 2,
   "metadata": {},
   "outputs": [
    {
     "name": "stdout",
     "output_type": "stream",
     "text": [
      "120\n"
     ]
    }
   ],
   "source": [
    "def sum_array(array):\n",
    "    \"\"\"\n",
    "    If the array is empty, the sum is 0. Otherwise, the function adds the last element\n",
    "    of the array to the sum of the remaining elements, calculated recursively by\n",
    "    excluding the last element.\n",
    "\n",
    "    Parameters:\n",
    "    - array (list): The list of numeric elements to calculate the sum for.\n",
    "\n",
    "    Returns:\n",
    "    int: The sum of the elements in the array.\n",
    "\n",
    "    Example:\n",
    "    >>> sum_array([1, 2, 3, 4, 5])\n",
    "    15  # Since 1 + 2 + 3 + 4 + 5 = 15\n",
    "    \"\"\"\n",
    "    if len(array) == 0:\n",
    "        return 0\n",
    "    return array[-1] + sum_array(array[:-1])\n",
    "\n",
    "my_array = [92, 23, 15, -20, 10]\n",
    "result_sum = sum_array(my_array)\n",
    "print(result_sum)"
   ]
  },
  {
   "cell_type": "markdown",
   "metadata": {},
   "source": [
    "<hr>\n",
    "\n",
    "### Q5. Given a number n. Print if it is an armstrong number or not."
   ]
  },
  {
   "cell_type": "code",
   "execution_count": 3,
   "metadata": {},
   "outputs": [
    {
     "name": "stdout",
     "output_type": "stream",
     "text": [
      "153 is an Armstrong Number.\n",
      "123 is NOT an Armstrong Number.\n"
     ]
    }
   ],
   "source": [
    "def digit_counter(n):\n",
    "   \"\"\"\n",
    "   Recursively counts the number of digits in a given non-negative integer by dividing it by 10 \n",
    "   until the integer becomes less than 10, at which point it returns 1.\n",
    "   The recursive call adds 1 for each iteration, \n",
    "   effectively summing up the count of digits in the original integer.\n",
    "\n",
    "   Parameters:\n",
    "   n (int): The non-negative integer to count the digits of.\n",
    "\n",
    "   Returns:\n",
    "   int: The count of digits in the given integer.\n",
    "\n",
    "   Example:\n",
    "   >>> digit_counter(123)\n",
    "   3\n",
    "\n",
    "   >>> digit_counter(9876543210)\n",
    "   10\n",
    "   \"\"\"\n",
    "   if n < 10:\n",
    "      return 1\n",
    "   return 1 + digit_counter(n // 10)\n",
    "\n",
    "# Armstrong sum computation function\n",
    "def calculate_armstrong_sum(n, digit_count = 0):\n",
    "   \"\"\"\n",
    "   Calculate the sum of each digit raised to the power of the total digit count.\n",
    "   If digit_count is not provided, it is calculated using the digit_counter function.\n",
    "   The process is repeated recursively for each digit.\n",
    "\n",
    "   Parameters:\n",
    "   - n (int): The non-negative integer to calculate the Armstrong sum for.\n",
    "   - digit_count (int, optional): The count of digits in the integer.\n",
    "      If not provided, it is calculated using the digit_counter function.\n",
    "\n",
    "   Returns:\n",
    "   int: The Armstrong sum of the digits in the given integer.\n",
    "\n",
    "   Example:\n",
    "   >>> calculate_armstrong_sum(153)\n",
    "   153 => 1^3 + 5^3 + 3^3 = 153\n",
    "   \"\"\"\n",
    "   if digit_count == 0:\n",
    "      digit_count = digit_counter(n)\n",
    "   if n < 10 :\n",
    "      return n\n",
    "   return  pow(n % 10, digit_count)+ calculate_armstrong_sum(n // 10,digit_count)\n",
    "\n",
    "def is_armstrong(n):\n",
    "   \"\"\"\n",
    "   Check if a given integer is an Armstrong number using calculate_armstrong_sum() and print the result.\n",
    "\n",
    "   Parameters:\n",
    "   - n (int): The integer to check for being an Armstrong number.\n",
    "\n",
    "   Returns:\n",
    "   None\n",
    "\n",
    "   Example:\n",
    "   >>> is_armstrong(153)\n",
    "   153 is an Armstrong Number.\n",
    "   \"\"\"\n",
    "   if abs(n) == calculate_armstrong_sum(abs(n)):\n",
    "      print(f\"{abs(n)} is an Armstrong Number.\")\n",
    "   else:\n",
    "      print(f\"{abs(n)} is NOT an Armstrong Number.\")\n",
    "\n",
    "\n",
    "is_armstrong(-153)\n",
    "is_armstrong(123)"
   ]
  }
 ],
 "metadata": {
  "kernelspec": {
   "display_name": "Python 3",
   "language": "python",
   "name": "python3"
  },
  "language_info": {
   "codemirror_mode": {
    "name": "ipython",
    "version": 3
   },
   "file_extension": ".py",
   "mimetype": "text/x-python",
   "name": "python",
   "nbconvert_exporter": "python",
   "pygments_lexer": "ipython3",
   "version": "3.11.4"
  }
 },
 "nbformat": 4,
 "nbformat_minor": 2
}
